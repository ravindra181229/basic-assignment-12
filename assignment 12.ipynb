{
 "cells": [
  {
   "cell_type": "code",
   "execution_count": 1,
   "id": "0737d254",
   "metadata": {},
   "outputs": [
    {
     "data": {
      "text/plain": [
       "'the PdfFileReader() should be opened with rb() \\nand the PdfFileWriter() should be opened with wb()'"
      ]
     },
     "execution_count": 1,
     "metadata": {},
     "output_type": "execute_result"
    }
   ],
   "source": [
    "#Q1\n",
    "'''the PdfFileReader() should be opened with rb() \n",
    "and the PdfFileWriter() should be opened with wb()'''"
   ]
  },
  {
   "cell_type": "code",
   "execution_count": 8,
   "id": "7c5bc7a4",
   "metadata": {},
   "outputs": [
    {
     "data": {
      "text/plain": [
       "' by calling the getPage() method on a PdfFileReader object and passing it the page number '"
      ]
     },
     "execution_count": 8,
     "metadata": {},
     "output_type": "execute_result"
    }
   ],
   "source": [
    "#Q2\n",
    "''' by calling the getPage() method on a PdfFileReader object and passing it the page number '''"
   ]
  },
  {
   "cell_type": "code",
   "execution_count": 9,
   "id": "0e70f727",
   "metadata": {},
   "outputs": [
    {
     "data": {
      "text/plain": [
       "'The total number of pages in the document is stored in the numPages attribute of a PdfFileReader object'"
      ]
     },
     "execution_count": 9,
     "metadata": {},
     "output_type": "execute_result"
    }
   ],
   "source": [
    "#Q3\n",
    "'''The total number of pages in the document is stored in the numPages attribute of a PdfFileReader object'''"
   ]
  },
  {
   "cell_type": "code",
   "execution_count": 1,
   "id": "60685708",
   "metadata": {},
   "outputs": [
    {
     "data": {
      "text/plain": [
       "\"True if the PDF is encrypted and False if PDF isn't encrypted. \\nif we call a function that reads the file before it has been decrypted with the correct password,will we get an error\""
      ]
     },
     "execution_count": 1,
     "metadata": {},
     "output_type": "execute_result"
    }
   ],
   "source": [
    "#Q4\n",
    "'''True if the PDF is encrypted and False if PDF isn't encrypted. \n",
    "if we call a function that reads the file before it has been decrypted with the correct password,will we get an error'''"
   ]
  },
  {
   "cell_type": "code",
   "execution_count": 2,
   "id": "202df6d3",
   "metadata": {},
   "outputs": [
    {
     "data": {
      "text/plain": [
       "'\"Ctrl+Shift+L\": to rotate page to left \\n\"Ctrl+Shift+R\": to rotate page to right'"
      ]
     },
     "execution_count": 2,
     "metadata": {},
     "output_type": "execute_result"
    }
   ],
   "source": [
    "#Q5\n",
    "'''\"Ctrl+Shift+L\": to rotate page to left \n",
    "\"Ctrl+Shift+R\": to rotate page to right'''"
   ]
  },
  {
   "cell_type": "code",
   "execution_count": 3,
   "id": "c0e9691c",
   "metadata": {},
   "outputs": [
    {
     "data": {
      "text/plain": [
       "'A run is the object contains inline content and \\na paragraph object contains size,color,font , style and others'"
      ]
     },
     "execution_count": 3,
     "metadata": {},
     "output_type": "execute_result"
    }
   ],
   "source": [
    "#Q6\n",
    "'''A run is the object contains inline content and \n",
    "a paragraph object contains size,color,font , style and others'''"
   ]
  },
  {
   "cell_type": "code",
   "execution_count": 4,
   "id": "2acfccb9",
   "metadata": {},
   "outputs": [
    {
     "data": {
      "text/plain": [
       "'we open a .docx file in Python, call docx.Document(), and pass the filename. \\nThis will return a Document that has a paragraphs attribute which is a list of Paragraph objects'"
      ]
     },
     "execution_count": 4,
     "metadata": {},
     "output_type": "execute_result"
    }
   ],
   "source": [
    "#Q7\n",
    "'''we open a .docx file in Python, call docx.Document(), and pass the filename. \n",
    "This will return a Document that has a paragraphs attribute which is a list of Paragraph objects'''"
   ]
  },
  {
   "cell_type": "code",
   "execution_count": 5,
   "id": "952ef9d4",
   "metadata": {},
   "outputs": [
    {
     "data": {
      "text/plain": [
       "'DocumentTitle'"
      ]
     },
     "execution_count": 5,
     "metadata": {},
     "output_type": "execute_result"
    }
   ],
   "source": [
    "#Q8\n",
    "'''DocumentTitle'''"
   ]
  },
  {
   "cell_type": "code",
   "execution_count": 7,
   "id": "9c4e3a7d",
   "metadata": {},
   "outputs": [
    {
     "data": {
      "text/plain": [
       "'False: the attribute is always diabled\\nTrue: the attribute is always enebled\\nNone: defaults to whatever the run’s style is set'"
      ]
     },
     "execution_count": 7,
     "metadata": {},
     "output_type": "execute_result"
    }
   ],
   "source": [
    "#Q9\n",
    "'''False: the attribute is always diabled\n",
    "True: the attribute is always enebled\n",
    "None: defaults to whatever the run’s style is set'''"
   ]
  },
  {
   "cell_type": "code",
   "execution_count": 8,
   "id": "ed30f501",
   "metadata": {},
   "outputs": [
    {
     "data": {
      "text/plain": [
       "'we should call docx.Document() and we should add,the add_paragraph() method'"
      ]
     },
     "execution_count": 8,
     "metadata": {},
     "output_type": "execute_result"
    }
   ],
   "source": [
    "#Q10\n",
    "'''we should call docx.Document() and we should add,the add_paragraph() method'''"
   ]
  },
  {
   "cell_type": "code",
   "execution_count": 12,
   "id": "ea6c5082",
   "metadata": {},
   "outputs": [
    {
     "data": {
      "text/plain": [
       "\"doc.add_paragraph('Hello,there!')\""
      ]
     },
     "execution_count": 12,
     "metadata": {},
     "output_type": "execute_result"
    }
   ],
   "source": [
    "#Q11\n",
    "\"doc.add_paragraph('Hello,there!')\""
   ]
  },
  {
   "cell_type": "code",
   "execution_count": 13,
   "id": "2ccdcee9",
   "metadata": {},
   "outputs": [
    {
     "data": {
      "text/plain": [
       "'The arguments to add_heading()'"
      ]
     },
     "execution_count": 13,
     "metadata": {},
     "output_type": "execute_result"
    }
   ],
   "source": [
    "#Q12\n",
    "'''The arguments to add_heading()'''"
   ]
  },
  {
   "cell_type": "code",
   "execution_count": null,
   "id": "1c0f9818",
   "metadata": {},
   "outputs": [],
   "source": []
  }
 ],
 "metadata": {
  "kernelspec": {
   "display_name": "Python 3",
   "language": "python",
   "name": "python3"
  },
  "language_info": {
   "codemirror_mode": {
    "name": "ipython",
    "version": 3
   },
   "file_extension": ".py",
   "mimetype": "text/x-python",
   "name": "python",
   "nbconvert_exporter": "python",
   "pygments_lexer": "ipython3",
   "version": "3.8.8"
  }
 },
 "nbformat": 4,
 "nbformat_minor": 5
}
